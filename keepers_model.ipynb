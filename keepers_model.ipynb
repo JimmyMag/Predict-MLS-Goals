{
 "cells": [
  {
   "cell_type": "code",
   "execution_count": 1,
   "metadata": {
    "ExecuteTime": {
     "end_time": "2018-04-30T14:44:43.678193Z",
     "start_time": "2018-04-30T14:44:42.755212Z"
    }
   },
   "outputs": [
    {
     "name": "stderr",
     "output_type": "stream",
     "text": [
      "C:\\Users\\Jimmy\\Anaconda3\\lib\\site-packages\\statsmodels\\compat\\pandas.py:56: FutureWarning: The pandas.core.datetools module is deprecated and will be removed in a future version. Please use the pandas.tseries module instead.\n",
      "  from pandas.core import datetools\n"
     ]
    }
   ],
   "source": [
    "import csv\n",
    "import patsy\n",
    "import pandas as pd\n",
    "import seaborn as sns\n",
    "import statsmodels.api as sm"
   ]
  },
  {
   "cell_type": "code",
   "execution_count": 2,
   "metadata": {
    "ExecuteTime": {
     "end_time": "2018-04-30T14:44:43.702490Z",
     "start_time": "2018-04-30T14:44:43.678193Z"
    }
   },
   "outputs": [],
   "source": [
    "players = pd.read_csv(\"keepers.csv\", encoding='latin-1')"
   ]
  },
  {
   "cell_type": "code",
   "execution_count": 3,
   "metadata": {
    "ExecuteTime": {
     "end_time": "2018-04-30T14:44:43.830617Z",
     "start_time": "2018-04-30T14:44:43.702490Z"
    }
   },
   "outputs": [
    {
     "data": {
      "text/html": [
       "<div>\n",
       "<style scoped>\n",
       "    .dataframe tbody tr th:only-of-type {\n",
       "        vertical-align: middle;\n",
       "    }\n",
       "\n",
       "    .dataframe tbody tr th {\n",
       "        vertical-align: top;\n",
       "    }\n",
       "\n",
       "    .dataframe thead th {\n",
       "        text-align: right;\n",
       "    }\n",
       "</style>\n",
       "<table border=\"1\" class=\"dataframe\">\n",
       "  <thead>\n",
       "    <tr style=\"text-align: right;\">\n",
       "      <th></th>\n",
       "      <th>Player</th>\n",
       "      <th>Year</th>\n",
       "      <th>Position</th>\n",
       "      <th>Club</th>\n",
       "      <th>GP</th>\n",
       "      <th>GS</th>\n",
       "      <th>MINS</th>\n",
       "      <th>SHO</th>\n",
       "      <th>SV</th>\n",
       "      <th>GA</th>\n",
       "      <th>PKG</th>\n",
       "      <th>PKA</th>\n",
       "      <th>W</th>\n",
       "      <th>L</th>\n",
       "      <th>T</th>\n",
       "    </tr>\n",
       "  </thead>\n",
       "  <tbody>\n",
       "    <tr>\n",
       "      <th>0</th>\n",
       "      <td>Alec Kann</td>\n",
       "      <td>2016</td>\n",
       "      <td>Goalkeeper</td>\n",
       "      <td>Sporting Kansas City</td>\n",
       "      <td>7</td>\n",
       "      <td>7</td>\n",
       "      <td>630</td>\n",
       "      <td>2</td>\n",
       "      <td>17</td>\n",
       "      <td>11</td>\n",
       "      <td>0</td>\n",
       "      <td>0</td>\n",
       "      <td>2</td>\n",
       "      <td>2</td>\n",
       "      <td>3</td>\n",
       "    </tr>\n",
       "    <tr>\n",
       "      <th>1</th>\n",
       "      <td>Alec Kann</td>\n",
       "      <td>2017</td>\n",
       "      <td>Goalkeeper</td>\n",
       "      <td>Atlanta United</td>\n",
       "      <td>18</td>\n",
       "      <td>18</td>\n",
       "      <td>1620</td>\n",
       "      <td>4</td>\n",
       "      <td>56</td>\n",
       "      <td>25</td>\n",
       "      <td>4</td>\n",
       "      <td>4</td>\n",
       "      <td>8</td>\n",
       "      <td>7</td>\n",
       "      <td>3</td>\n",
       "    </tr>\n",
       "    <tr>\n",
       "      <th>2</th>\n",
       "      <td>Alex Bono</td>\n",
       "      <td>2016</td>\n",
       "      <td>Goalkeeper</td>\n",
       "      <td>Toronto FC</td>\n",
       "      <td>16</td>\n",
       "      <td>15</td>\n",
       "      <td>1370</td>\n",
       "      <td>4</td>\n",
       "      <td>42</td>\n",
       "      <td>16</td>\n",
       "      <td>1</td>\n",
       "      <td>1</td>\n",
       "      <td>8</td>\n",
       "      <td>3</td>\n",
       "      <td>5</td>\n",
       "    </tr>\n",
       "    <tr>\n",
       "      <th>3</th>\n",
       "      <td>Alex Bono</td>\n",
       "      <td>2017</td>\n",
       "      <td>Goalkeeper</td>\n",
       "      <td>Toronto FC</td>\n",
       "      <td>29</td>\n",
       "      <td>28</td>\n",
       "      <td>2570</td>\n",
       "      <td>10</td>\n",
       "      <td>72</td>\n",
       "      <td>32</td>\n",
       "      <td>3</td>\n",
       "      <td>5</td>\n",
       "      <td>19</td>\n",
       "      <td>4</td>\n",
       "      <td>6</td>\n",
       "    </tr>\n",
       "    <tr>\n",
       "      <th>4</th>\n",
       "      <td>Andre Blake</td>\n",
       "      <td>2015</td>\n",
       "      <td>Goalkeeper</td>\n",
       "      <td>Philadelphia Union</td>\n",
       "      <td>6</td>\n",
       "      <td>6</td>\n",
       "      <td>540</td>\n",
       "      <td>2</td>\n",
       "      <td>26</td>\n",
       "      <td>9</td>\n",
       "      <td>1</td>\n",
       "      <td>1</td>\n",
       "      <td>2</td>\n",
       "      <td>3</td>\n",
       "      <td>1</td>\n",
       "    </tr>\n",
       "  </tbody>\n",
       "</table>\n",
       "</div>"
      ],
      "text/plain": [
       "        Player  Year    Position                  Club  GP  GS  MINS  SHO  SV  \\\n",
       "0    Alec Kann  2016  Goalkeeper  Sporting Kansas City   7   7   630    2  17   \n",
       "1    Alec Kann  2017  Goalkeeper        Atlanta United  18  18  1620    4  56   \n",
       "2    Alex Bono  2016  Goalkeeper            Toronto FC  16  15  1370    4  42   \n",
       "3    Alex Bono  2017  Goalkeeper            Toronto FC  29  28  2570   10  72   \n",
       "4  Andre Blake  2015  Goalkeeper    Philadelphia Union   6   6   540    2  26   \n",
       "\n",
       "   GA  PKG  PKA   W  L  T  \n",
       "0  11    0    0   2  2  3  \n",
       "1  25    4    4   8  7  3  \n",
       "2  16    1    1   8  3  5  \n",
       "3  32    3    5  19  4  6  \n",
       "4   9    1    1   2  3  1  "
      ]
     },
     "execution_count": 3,
     "metadata": {},
     "output_type": "execute_result"
    }
   ],
   "source": [
    "players = players[players.Year != \"Career Totals\"]\n",
    "players = players[players.GP > 3]\n",
    "players = players.groupby([\"Player\", \"Year\"]).first().reset_index()\n",
    "players[\"Player\"] = players.Player.str.rstrip()\n",
    "players.head()"
   ]
  },
  {
   "cell_type": "code",
   "execution_count": 4,
   "metadata": {
    "ExecuteTime": {
     "end_time": "2018-04-30T14:44:43.862663Z",
     "start_time": "2018-04-30T14:44:43.834624Z"
    }
   },
   "outputs": [],
   "source": [
    "players_adj = players.copy(deep = True)\n",
    "players_adj[['SHO', 'SV', 'GA', 'PKG', \"PKA\", 'W', 'L', 'T']] = players_adj[['SHO', 'SV', 'GA', 'PKG', \"PKA\", 'W', 'L', 'T']].div(players.GP, axis=0)\n",
    "pd.options.display.float_format = '{:,.4f}'.format"
   ]
  },
  {
   "cell_type": "code",
   "execution_count": 5,
   "metadata": {
    "ExecuteTime": {
     "end_time": "2018-04-30T14:44:43.874685Z",
     "start_time": "2018-04-30T14:44:43.862663Z"
    }
   },
   "outputs": [],
   "source": [
    "#sns.pairplot(players.iloc[:, 3:]);"
   ]
  },
  {
   "cell_type": "code",
   "execution_count": 6,
   "metadata": {
    "ExecuteTime": {
     "end_time": "2018-04-30T14:44:43.898712Z",
     "start_time": "2018-04-30T14:44:43.878684Z"
    }
   },
   "outputs": [],
   "source": [
    "test = players_adj[players_adj.Year == \"2018\"]\n",
    "train = players_adj[players_adj.Year != \"2018\"]"
   ]
  },
  {
   "cell_type": "code",
   "execution_count": 7,
   "metadata": {
    "ExecuteTime": {
     "end_time": "2018-04-30T14:44:43.987842Z",
     "start_time": "2018-04-30T14:44:43.902718Z"
    }
   },
   "outputs": [
    {
     "data": {
      "text/html": [
       "<table class=\"simpletable\">\n",
       "<caption>OLS Regression Results</caption>\n",
       "<tr>\n",
       "  <th>Dep. Variable:</th>           <td>GA</td>        <th>  R-squared:         </th> <td>   0.560</td>\n",
       "</tr>\n",
       "<tr>\n",
       "  <th>Model:</th>                   <td>OLS</td>       <th>  Adj. R-squared:    </th> <td>   0.555</td>\n",
       "</tr>\n",
       "<tr>\n",
       "  <th>Method:</th>             <td>Least Squares</td>  <th>  F-statistic:       </th> <td>   96.90</td>\n",
       "</tr>\n",
       "<tr>\n",
       "  <th>Date:</th>             <td>Mon, 30 Apr 2018</td> <th>  Prob (F-statistic):</th> <td>7.41e-28</td>\n",
       "</tr>\n",
       "<tr>\n",
       "  <th>Time:</th>                 <td>10:44:43</td>     <th>  Log-Likelihood:    </th> <td>  5.0637</td>\n",
       "</tr>\n",
       "<tr>\n",
       "  <th>No. Observations:</th>      <td>   155</td>      <th>  AIC:               </th> <td>  -4.127</td>\n",
       "</tr>\n",
       "<tr>\n",
       "  <th>Df Residuals:</th>          <td>   152</td>      <th>  BIC:               </th> <td>   5.003</td>\n",
       "</tr>\n",
       "<tr>\n",
       "  <th>Df Model:</th>              <td>     2</td>      <th>                     </th>     <td> </td>   \n",
       "</tr>\n",
       "<tr>\n",
       "  <th>Covariance Type:</th>      <td>nonrobust</td>    <th>                     </th>     <td> </td>   \n",
       "</tr>\n",
       "</table>\n",
       "<table class=\"simpletable\">\n",
       "<tr>\n",
       "      <td></td>         <th>coef</th>     <th>std err</th>      <th>t</th>      <th>P>|t|</th>  <th>[0.025</th>    <th>0.975]</th>  \n",
       "</tr>\n",
       "<tr>\n",
       "  <th>Intercept</th> <td>    1.3536</td> <td>    0.090</td> <td>   15.072</td> <td> 0.000</td> <td>    1.176</td> <td>    1.531</td>\n",
       "</tr>\n",
       "<tr>\n",
       "  <th>SHO</th>       <td>   -1.3634</td> <td>    0.183</td> <td>   -7.435</td> <td> 0.000</td> <td>   -1.726</td> <td>   -1.001</td>\n",
       "</tr>\n",
       "<tr>\n",
       "  <th>L</th>         <td>    1.0211</td> <td>    0.150</td> <td>    6.822</td> <td> 0.000</td> <td>    0.725</td> <td>    1.317</td>\n",
       "</tr>\n",
       "</table>\n",
       "<table class=\"simpletable\">\n",
       "<tr>\n",
       "  <th>Omnibus:</th>       <td> 5.210</td> <th>  Durbin-Watson:     </th> <td>   2.372</td>\n",
       "</tr>\n",
       "<tr>\n",
       "  <th>Prob(Omnibus):</th> <td> 0.074</td> <th>  Jarque-Bera (JB):  </th> <td>   7.281</td>\n",
       "</tr>\n",
       "<tr>\n",
       "  <th>Skew:</th>          <td> 0.092</td> <th>  Prob(JB):          </th> <td>  0.0262</td>\n",
       "</tr>\n",
       "<tr>\n",
       "  <th>Kurtosis:</th>      <td> 4.046</td> <th>  Cond. No.          </th> <td>    12.9</td>\n",
       "</tr>\n",
       "</table>"
      ],
      "text/plain": [
       "<class 'statsmodels.iolib.summary.Summary'>\n",
       "\"\"\"\n",
       "                            OLS Regression Results                            \n",
       "==============================================================================\n",
       "Dep. Variable:                     GA   R-squared:                       0.560\n",
       "Model:                            OLS   Adj. R-squared:                  0.555\n",
       "Method:                 Least Squares   F-statistic:                     96.90\n",
       "Date:                Mon, 30 Apr 2018   Prob (F-statistic):           7.41e-28\n",
       "Time:                        10:44:43   Log-Likelihood:                 5.0637\n",
       "No. Observations:                 155   AIC:                            -4.127\n",
       "Df Residuals:                     152   BIC:                             5.003\n",
       "Df Model:                           2                                         \n",
       "Covariance Type:            nonrobust                                         \n",
       "==============================================================================\n",
       "                 coef    std err          t      P>|t|      [0.025      0.975]\n",
       "------------------------------------------------------------------------------\n",
       "Intercept      1.3536      0.090     15.072      0.000       1.176       1.531\n",
       "SHO           -1.3634      0.183     -7.435      0.000      -1.726      -1.001\n",
       "L              1.0211      0.150      6.822      0.000       0.725       1.317\n",
       "==============================================================================\n",
       "Omnibus:                        5.210   Durbin-Watson:                   2.372\n",
       "Prob(Omnibus):                  0.074   Jarque-Bera (JB):                7.281\n",
       "Skew:                           0.092   Prob(JB):                       0.0262\n",
       "Kurtosis:                       4.046   Cond. No.                         12.9\n",
       "==============================================================================\n",
       "\n",
       "Warnings:\n",
       "[1] Standard Errors assume that the covariance matrix of the errors is correctly specified.\n",
       "\"\"\""
      ]
     },
     "execution_count": 7,
     "metadata": {},
     "output_type": "execute_result"
    }
   ],
   "source": [
    "y, X = patsy.dmatrices('GA ~ SHO + L', data=train, return_type=\"dataframe\")\n",
    "model = sm.OLS(y,X)\n",
    "fit = model.fit()\n",
    "fit.summary()"
   ]
  },
  {
   "cell_type": "code",
   "execution_count": 8,
   "metadata": {
    "ExecuteTime": {
     "end_time": "2018-04-30T14:44:44.059608Z",
     "start_time": "2018-04-30T14:44:43.987842Z"
    }
   },
   "outputs": [
    {
     "data": {
      "text/html": [
       "<div>\n",
       "<style scoped>\n",
       "    .dataframe tbody tr th:only-of-type {\n",
       "        vertical-align: middle;\n",
       "    }\n",
       "\n",
       "    .dataframe tbody tr th {\n",
       "        vertical-align: top;\n",
       "    }\n",
       "\n",
       "    .dataframe thead th {\n",
       "        text-align: right;\n",
       "    }\n",
       "</style>\n",
       "<table border=\"1\" class=\"dataframe\">\n",
       "  <thead>\n",
       "    <tr style=\"text-align: right;\">\n",
       "      <th></th>\n",
       "      <th>Player</th>\n",
       "      <th>Year</th>\n",
       "      <th>Position</th>\n",
       "      <th>Club</th>\n",
       "      <th>GP</th>\n",
       "      <th>GS</th>\n",
       "      <th>MINS</th>\n",
       "      <th>SHO</th>\n",
       "      <th>SV</th>\n",
       "      <th>GA</th>\n",
       "      <th>PKG</th>\n",
       "      <th>PKA</th>\n",
       "      <th>W</th>\n",
       "      <th>L</th>\n",
       "      <th>T</th>\n",
       "    </tr>\n",
       "  </thead>\n",
       "  <tbody>\n",
       "    <tr>\n",
       "      <th>139</th>\n",
       "      <td>Sean Johnson</td>\n",
       "      <td>2018</td>\n",
       "      <td>Goalkeeper</td>\n",
       "      <td>New York City FC</td>\n",
       "      <td>8</td>\n",
       "      <td>8</td>\n",
       "      <td>720</td>\n",
       "      <td>0.3750</td>\n",
       "      <td>3.5000</td>\n",
       "      <td>1.1250</td>\n",
       "      <td>0.0000</td>\n",
       "      <td>0.0000</td>\n",
       "      <td>0.6250</td>\n",
       "      <td>0.1250</td>\n",
       "      <td>0.2500</td>\n",
       "    </tr>\n",
       "    <tr>\n",
       "      <th>161</th>\n",
       "      <td>Tim Howard</td>\n",
       "      <td>2018</td>\n",
       "      <td>Goalkeeper</td>\n",
       "      <td>Colorado Rapids</td>\n",
       "      <td>6</td>\n",
       "      <td>6</td>\n",
       "      <td>470</td>\n",
       "      <td>0.3333</td>\n",
       "      <td>3.1667</td>\n",
       "      <td>0.8333</td>\n",
       "      <td>0.0000</td>\n",
       "      <td>0.0000</td>\n",
       "      <td>0.3333</td>\n",
       "      <td>0.1667</td>\n",
       "      <td>0.3333</td>\n",
       "    </tr>\n",
       "    <tr>\n",
       "      <th>27</th>\n",
       "      <td>Brad Guzan</td>\n",
       "      <td>2018</td>\n",
       "      <td>Goalkeeper</td>\n",
       "      <td>Atlanta United</td>\n",
       "      <td>7</td>\n",
       "      <td>7</td>\n",
       "      <td>630</td>\n",
       "      <td>0.4286</td>\n",
       "      <td>2.1429</td>\n",
       "      <td>1.1429</td>\n",
       "      <td>0.1429</td>\n",
       "      <td>0.1429</td>\n",
       "      <td>0.7143</td>\n",
       "      <td>0.1429</td>\n",
       "      <td>0.1429</td>\n",
       "    </tr>\n",
       "    <tr>\n",
       "      <th>165</th>\n",
       "      <td>Tim Melia</td>\n",
       "      <td>2018</td>\n",
       "      <td>Goalkeeper</td>\n",
       "      <td>Sporting Kansas City</td>\n",
       "      <td>8</td>\n",
       "      <td>8</td>\n",
       "      <td>720</td>\n",
       "      <td>0.3750</td>\n",
       "      <td>2.7500</td>\n",
       "      <td>1.3750</td>\n",
       "      <td>0.0000</td>\n",
       "      <td>0.0000</td>\n",
       "      <td>0.6250</td>\n",
       "      <td>0.1250</td>\n",
       "      <td>0.2500</td>\n",
       "    </tr>\n",
       "    <tr>\n",
       "      <th>59</th>\n",
       "      <td>David Bingham</td>\n",
       "      <td>2018</td>\n",
       "      <td>Goalkeeper</td>\n",
       "      <td>LA Galaxy</td>\n",
       "      <td>7</td>\n",
       "      <td>7</td>\n",
       "      <td>630</td>\n",
       "      <td>0.2857</td>\n",
       "      <td>3.8571</td>\n",
       "      <td>1.4286</td>\n",
       "      <td>0.1429</td>\n",
       "      <td>0.2857</td>\n",
       "      <td>0.4286</td>\n",
       "      <td>0.4286</td>\n",
       "      <td>0.1429</td>\n",
       "    </tr>\n",
       "    <tr>\n",
       "      <th>128</th>\n",
       "      <td>Nick Rimando</td>\n",
       "      <td>2018</td>\n",
       "      <td>Goalkeeper</td>\n",
       "      <td>Real Salt Lake</td>\n",
       "      <td>7</td>\n",
       "      <td>7</td>\n",
       "      <td>630</td>\n",
       "      <td>0.2857</td>\n",
       "      <td>3.7143</td>\n",
       "      <td>2.0000</td>\n",
       "      <td>0.2857</td>\n",
       "      <td>0.4286</td>\n",
       "      <td>0.4286</td>\n",
       "      <td>0.4286</td>\n",
       "      <td>0.1429</td>\n",
       "    </tr>\n",
       "    <tr>\n",
       "      <th>83</th>\n",
       "      <td>Jimmy Maurer</td>\n",
       "      <td>2018</td>\n",
       "      <td>Goalkeeper</td>\n",
       "      <td>FC Dallas</td>\n",
       "      <td>6</td>\n",
       "      <td>6</td>\n",
       "      <td>540</td>\n",
       "      <td>0.5000</td>\n",
       "      <td>3.5000</td>\n",
       "      <td>0.5000</td>\n",
       "      <td>0.0000</td>\n",
       "      <td>0.0000</td>\n",
       "      <td>0.5000</td>\n",
       "      <td>0.0000</td>\n",
       "      <td>0.5000</td>\n",
       "    </tr>\n",
       "  </tbody>\n",
       "</table>\n",
       "</div>"
      ],
      "text/plain": [
       "            Player  Year    Position                  Club  GP  GS  MINS  \\\n",
       "139   Sean Johnson  2018  Goalkeeper      New York City FC   8   8   720   \n",
       "161     Tim Howard  2018  Goalkeeper       Colorado Rapids   6   6   470   \n",
       "27      Brad Guzan  2018  Goalkeeper        Atlanta United   7   7   630   \n",
       "165      Tim Melia  2018  Goalkeeper  Sporting Kansas City   8   8   720   \n",
       "59   David Bingham  2018  Goalkeeper             LA Galaxy   7   7   630   \n",
       "128   Nick Rimando  2018  Goalkeeper        Real Salt Lake   7   7   630   \n",
       "83    Jimmy Maurer  2018  Goalkeeper             FC Dallas   6   6   540   \n",
       "\n",
       "       SHO     SV     GA    PKG    PKA      W      L      T  \n",
       "139 0.3750 3.5000 1.1250 0.0000 0.0000 0.6250 0.1250 0.2500  \n",
       "161 0.3333 3.1667 0.8333 0.0000 0.0000 0.3333 0.1667 0.3333  \n",
       "27  0.4286 2.1429 1.1429 0.1429 0.1429 0.7143 0.1429 0.1429  \n",
       "165 0.3750 2.7500 1.3750 0.0000 0.0000 0.6250 0.1250 0.2500  \n",
       "59  0.2857 3.8571 1.4286 0.1429 0.2857 0.4286 0.4286 0.1429  \n",
       "128 0.2857 3.7143 2.0000 0.2857 0.4286 0.4286 0.4286 0.1429  \n",
       "83  0.5000 3.5000 0.5000 0.0000 0.0000 0.5000 0.0000 0.5000  "
      ]
     },
     "execution_count": 8,
     "metadata": {},
     "output_type": "execute_result"
    }
   ],
   "source": [
    "test_players = test[test.Player == \"Sean Johnson\"]\n",
    "test_players = test_players.append(test[test.Player == \"Tim Howard\"])\n",
    "test_players = test_players.append(test[test.Player == \"Brad Guzan\"])\n",
    "test_players = test_players.append(test[test.Player == \"Tim Melia\"])\n",
    "test_players = test_players.append(test[test.Player == \"David Bingham\"])\n",
    "test_players = test_players.append(test[test.Player == \"Nick Rimando\"])\n",
    "test_players = test_players.append(test[test.Player == \"Jimmy Maurer\"])\n",
    "test_players.head(8)"
   ]
  },
  {
   "cell_type": "code",
   "execution_count": 9,
   "metadata": {
    "ExecuteTime": {
     "end_time": "2018-04-30T14:44:44.077095Z",
     "start_time": "2018-04-30T14:44:44.061075Z"
    }
   },
   "outputs": [
    {
     "data": {
      "text/plain": [
       "139    1.1392\n",
       "161    0.8437\n",
       "27     1.1086\n",
       "165    1.4776\n",
       "59     1.9818\n",
       "128    2.7554\n",
       "83    -0.0049\n",
       "dtype: float64"
      ]
     },
     "execution_count": 9,
     "metadata": {},
     "output_type": "execute_result"
    }
   ],
   "source": [
    "predictions = fit.predict(test_players[['GA', 'SHO', 'L']])\n",
    "predictions"
   ]
  },
  {
   "cell_type": "code",
   "execution_count": 10,
   "metadata": {
    "ExecuteTime": {
     "end_time": "2018-04-30T14:44:44.312574Z",
     "start_time": "2018-04-30T14:44:44.077095Z"
    }
   },
   "outputs": [
    {
     "data": {
      "text/plain": [
       "<matplotlib.axes._subplots.AxesSubplot at 0x20f00581518>"
      ]
     },
     "execution_count": 10,
     "metadata": {},
     "output_type": "execute_result"
    },
    {
     "data": {
      "image/png": "[encoded data removed]",
      "text/plain": [
       "<matplotlib.figure.Figure at 0x20f0056bc50>"
      ]
     },
     "metadata": {},
     "output_type": "display_data"
    }
   ],
   "source": [
    "predictions = fit.predict(test[['GA', 'SHO', 'L']])\n",
    "expected = 0.0\n",
    "for prediction in predictions:\n",
    "    expected += prediction\n",
    "expected\n",
    "residuals = (test.GA - predictions).reset_index()\n",
    "residuals = residuals.drop([\"index\"], 1)\n",
    "residuals.plot(style = 'o', legend = False, title = \"Residuals (Goalkeepers)\", figsize = (10,5))\n"
   ]
  },
  {
   "cell_type": "code",
   "execution_count": null,
   "metadata": {},
   "outputs": [],
   "source": []
  }
 ],
 "metadata": {
  "kernelspec": {
   "display_name": "Python 3",
   "language": "python",
   "name": "python3"
  },
  "language_info": {
   "codemirror_mode": {
    "name": "ipython",
    "version": 3
   },
   "file_extension": ".py",
   "mimetype": "text/x-python",
   "name": "python",
   "nbconvert_exporter": "python",
   "pygments_lexer": "ipython3",
   "version": "3.6.4"
  }
 },
 "nbformat": 4,
 "nbformat_minor": 2
}
