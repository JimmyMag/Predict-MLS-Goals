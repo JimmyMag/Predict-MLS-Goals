{
 "cells": [
  {
   "cell_type": "markdown",
   "metadata": {},
   "source": [
    "# Scraping MLSSoccer.com\n",
    "\n",
    "The following notebook was capable of scraping the historical season data stored by MLSSoccer.com for the majority of active players in the league as the website appeared on April 24th, 2018"
   ]
  },
  {
   "cell_type": "code",
   "execution_count": null,
   "metadata": {
    "ExecuteTime": {
     "end_time": "2018-06-10T21:57:21.984155Z",
     "start_time": "2018-06-10T21:57:17.687644Z"
    }
   },
   "outputs": [],
   "source": [
    "import requests\n",
    "import csv\n",
    "import re\n",
    "import pandas as pd\n",
    "from bs4 import BeautifulSoup\n",
    "from time import sleep"
   ]
  },
  {
   "cell_type": "markdown",
   "metadata": {},
   "source": [
    "### Grab All Team Links"
   ]
  },
  {
   "cell_type": "code",
   "execution_count": null,
   "metadata": {
    "ExecuteTime": {
     "end_time": "2018-06-10T21:57:22.190762Z",
     "start_time": "2018-06-10T21:57:21.985153Z"
    }
   },
   "outputs": [],
   "source": [
    "url = \"https://www.mlssoccer.com/rosters/2018\"\n",
    "response2 = requests.get(url)\n",
    "page = response.text\n",
    "soup = BeautifulSoup(page, \"html5lib\")"
   ]
  },
  {
   "cell_type": "code",
   "execution_count": null,
   "metadata": {
    "ExecuteTime": {
     "end_time": "2018-06-10T21:57:22.191603Z",
     "start_time": "2018-06-10T21:57:19.730Z"
    }
   },
   "outputs": [],
   "source": [
    "teams = soup.optgroup\n",
    "team_links = []\n",
    "for option in teams:\n",
    "    if (option[\"value\"][-1] == \"8\"):\n",
    "        pass\n",
    "    else:\n",
    "        team_links.append(\"https://www.mlssoccer.com/rosters/2018/\" + option[\"value\"].split(\"/\")[-1])"
   ]
  },
  {
   "cell_type": "code",
   "execution_count": null,
   "metadata": {
    "ExecuteTime": {
     "end_time": "2018-06-10T21:57:22.191603Z",
     "start_time": "2018-06-10T21:57:20.163Z"
    }
   },
   "outputs": [],
   "source": [
    "# Occassionally, URL's grabbed from the roster page do not properly link to player's page\n",
    "# Create a list of them as they are discovered to prevent further breaking of program\n",
    "exclude_list = [\"https://www.mlssoccer.com/players/Shaft-Brewer\", \"https://www.mlssoccer.com/players/Maximiano\", \"https://www.mlssoccer.com/players/Bertrand-Owundi-Eko\",\n",
    "               \"https://www.mlssoccer.com/players/Zakaria-Diallo\", \"https://www.mlssoccer.com/players/Thomas-Meilleur-Giguere\",\n",
    "               \"https://www.mlssoccer.com/players/Antonio-Delamea-Mlinar\", \"https://www.mlssoccer.com/players/Mark-Segbers\",\n",
    "               \"https://www.mlssoccer.com/players/Ismael--Tajouri-Shradi\", \"https://www.mlssoccer.com/players/Earl-Edwards-Jr.\",\n",
    "               \"https://www.mlssoccer.com/players/Amro-Tarek\", \"https://www.mlssoccer.com/players/Eryk-Williamson\",\n",
    "               \"https://www.mlssoccer.com/players/Paul-Marie\", \"https://www.mlssoccer.com/players/Danny-Musovski\",\n",
    "               \"https://www.mlssoccer.com/players/Mohamed-Thiaw\", \"https://www.mlssoccer.com/players/Aiden-Daniels\",\n",
    "               \"https://www.mlssoccer.com/players/Simon-Colyn\", \"https://www.mlssoccer.com/players/Justin-Fiddes\",\n",
    "               \"https://www.mlssoccer.com/players/David-Norman-Jr.\"]"
   ]
  },
  {
   "cell_type": "code",
   "execution_count": null,
   "metadata": {
    "ExecuteTime": {
     "end_time": "2018-06-10T21:57:22.192825Z",
     "start_time": "2018-06-10T21:57:20.767Z"
    },
    "scrolled": true
   },
   "outputs": [],
   "source": [
    "stats = [[\"Player\", \"Position\", \"Year\", \"Club\", \"GP\", \"GS\", \"G\", \"MINS\", \"A\", \"SHTS\", \"SOG\", \"FC\", \"OFF\", \"Y\", \"R\"]]\n",
    "keepers = [[\"Player\", \"Position\", \"Year\", \"Club\", \"GP\", \"GS\", \"MINS\", \"SHO\", \"SV\", \"GA\", \"PKG\", \"PKA\", \"W\", \"L\", \"T\"]]\n",
    "\n",
    "for team in team_links:\n",
    "    sleep(1)\n",
    "    player_links = []\n",
    "    response_team = requests.get(team)\n",
    "    team_page = response_team.text\n",
    "    team_soup = BeautifulSoup(team_page, \"html5lib\")\n",
    "    roster = team_soup.table\n",
    "    players = [temp for temp in roster.find_all('a')]\n",
    "    player_links = []\n",
    "    for player in players:\n",
    "        player_links.append(\"https://www.mlssoccer.com\" + player[\"href\"])\n",
    "        \n",
    "    for link in player_links:\n",
    "        link = re.sub(r'\\s', '-', link)\n",
    "        if (link in exclude_list):\n",
    "            continue\n",
    "        sleep(2)\n",
    "        player_response = requests.get(link)\n",
    "        player_page = player_response.text\n",
    "        soup = BeautifulSoup(player_page, \"html5lib\")\n",
    "        name = (soup.find(\"title\").text.split(\"|\")[0])\n",
    "        pos = soup.find('span', {\"class\": \"position\"}).text\n",
    "        row = [name, pos]\n",
    "        for td in soup.find_all(\"td\"):\n",
    "            if (re.match(\"<td>.*?</td>\", str(td))):\n",
    "                continue\n",
    "            if (td[\"data-title\"] == \"Date\"):\n",
    "                break\n",
    "            row.append(td.text)\n",
    "            if (len(row) == 15):\n",
    "                if (pos == \"Goalkeeper\"):\n",
    "                    keepers.append(row)\n",
    "                else:\n",
    "                    stats.append(row)\n",
    "                row = [name, pos]"
   ]
  },
  {
   "cell_type": "markdown",
   "metadata": {},
   "source": [
    "Run the following codeblock if an error with a scraped URL occurs to determine where it occurred"
   ]
  },
  {
   "cell_type": "code",
   "execution_count": null,
   "metadata": {
    "ExecuteTime": {
     "end_time": "2018-06-10T21:58:05.390845Z",
     "start_time": "2018-06-10T21:58:05.378878Z"
    }
   },
   "outputs": [],
   "source": [
    "print (td)\n",
    "print (link)\n",
    "print (team)"
   ]
  },
  {
   "cell_type": "code",
   "execution_count": null,
   "metadata": {
    "ExecuteTime": {
     "end_time": "2018-06-10T21:55:28.159686Z",
     "start_time": "2018-06-10T21:55:28.063915Z"
    }
   },
   "outputs": [],
   "source": [
    "#Write data on field players and goalkeepers to separate .csv files\n",
    "\n",
    "with open(\"output.csv\", \"w\", newline = \"\") as out_file:\n",
    "    writer = csv.writer(out_file)\n",
    "    writer.writerows(stats)\n",
    "\n",
    "with open(\"keepers.csv\", \"w\", newline = \"\") as keep_outfile:\n",
    "    writer_keep = csv.writer(keep_outfile)\n",
    "    writer_keep.writerows(keepers)"
   ]
  },
  {
   "cell_type": "code",
   "execution_count": null,
   "metadata": {},
   "outputs": [],
   "source": []
  }
 ],
 "metadata": {
  "kernelspec": {
   "display_name": "Python 3",
   "language": "python",
   "name": "python3"
  },
  "language_info": {
   "codemirror_mode": {
    "name": "ipython",
    "version": 3
   },
   "file_extension": ".py",
   "mimetype": "text/x-python",
   "name": "python",
   "nbconvert_exporter": "python",
   "pygments_lexer": "ipython3",
   "version": "3.6.4"
  }
 },
 "nbformat": 4,
 "nbformat_minor": 2
}
