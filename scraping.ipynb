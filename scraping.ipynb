{
 "cells": [
  {
   "cell_type": "code",
   "execution_count": 1,
   "metadata": {
    "ExecuteTime": {
     "end_time": "2018-04-25T02:49:19.652030Z",
     "start_time": "2018-04-25T02:49:19.006037Z"
    }
   },
   "outputs": [],
   "source": [
    "import requests\n",
    "import csv\n",
    "import re\n",
    "import pandas as pd\n",
    "from bs4 import BeautifulSoup\n",
    "from time import sleep"
   ]
  },
  {
   "cell_type": "code",
   "execution_count": 2,
   "metadata": {
    "ExecuteTime": {
     "end_time": "2018-04-25T02:49:19.851410Z",
     "start_time": "2018-04-25T02:49:19.654544Z"
    }
   },
   "outputs": [],
   "source": [
    "url = \"https://www.mlssoccer.com/players/david-villa\"\n",
    "response = requests.get(url)\n",
    "page = response.text"
   ]
  },
  {
   "cell_type": "code",
   "execution_count": 3,
   "metadata": {
    "ExecuteTime": {
     "end_time": "2018-04-25T02:49:20.452068Z",
     "start_time": "2018-04-25T02:49:19.857433Z"
    }
   },
   "outputs": [],
   "source": [
    "soup = BeautifulSoup(page, \"html5lib\")\n",
    "name = (soup.find(\"title\").text.split(\"|\")[0])"
   ]
  },
  {
   "cell_type": "code",
   "execution_count": 4,
   "metadata": {
    "ExecuteTime": {
     "end_time": "2018-04-25T02:49:20.495996Z",
     "start_time": "2018-04-25T02:49:20.454077Z"
    }
   },
   "outputs": [],
   "source": [
    "stats = [[\"Player\", \"Year\", \"Club\", \"GP\", \"GS\", \"G\", \"MINS\", \"A\", \"SHTS\", \"SOG\", \"FC\", \"OFF\", \"Y\", \"R\"]]\n",
    "#game_stats = [[\"Player\", \"Date\", \"Match\", \"Result\", \"Appearance\", \"MINS\", \"G\", \"A\", \"SHTS\", \"SOG\", \"FC\", \"FS\", \"Y\", \"R\"]]\n",
    "name = (soup.find(\"title\").text.split(\"|\")[0])\n",
    "pos = soup.find('span', {\"class\": \"position\"}).text\n",
    "#year = True\n",
    "row = [name]\n",
    "for td in soup.find_all(\"td\"):\n",
    "    if (td[\"data-title\"] == \"Date\"):\n",
    "        break\n",
    "    row.append(td.text)\n",
    "    if (len(row) == 14):\n",
    "        stats.append(row)\n",
    "        row = [name]"
   ]
  },
  {
   "cell_type": "code",
   "execution_count": 5,
   "metadata": {
    "ExecuteTime": {
     "end_time": "2018-04-25T02:49:21.049342Z",
     "start_time": "2018-04-25T02:49:20.495996Z"
    }
   },
   "outputs": [],
   "source": [
    "url2 = \"https://www.mlssoccer.com/rosters/2018\"\n",
    "response2 = requests.get(url2)\n",
    "page2 = response2.text\n",
    "soup2 = BeautifulSoup(page, \"html5lib\")"
   ]
  },
  {
   "cell_type": "code",
   "execution_count": null,
   "metadata": {
    "ExecuteTime": {
     "end_time": "2018-04-20T19:23:40.572922Z",
     "start_time": "2018-04-20T19:23:40.486720Z"
    }
   },
   "outputs": [],
   "source": []
  },
  {
   "cell_type": "code",
   "execution_count": 6,
   "metadata": {
    "ExecuteTime": {
     "end_time": "2018-04-25T02:49:21.074636Z",
     "start_time": "2018-04-25T02:49:21.049342Z"
    }
   },
   "outputs": [],
   "source": [
    "teams = soup2.optgroup\n",
    "team_links = []\n",
    "for option in teams:\n",
    "    if (option[\"value\"][-1] == \"8\"):\n",
    "        pass\n",
    "    else:\n",
    "        team_links.append(\"https://www.mlssoccer.com/rosters/2018/\" + option[\"value\"].split(\"/\")[-1])"
   ]
  },
  {
   "cell_type": "code",
   "execution_count": 7,
   "metadata": {
    "ExecuteTime": {
     "end_time": "2018-04-25T02:49:21.525578Z",
     "start_time": "2018-04-25T02:49:21.074636Z"
    }
   },
   "outputs": [],
   "source": [
    "url3 = \"https://www.mlssoccer.com/rosters/2018/new-york-city-fc\"\n",
    "response3 = requests.get(url3)\n",
    "page3 = response3.text\n",
    "soup3 = BeautifulSoup(page3, \"html5lib\")"
   ]
  },
  {
   "cell_type": "code",
   "execution_count": 8,
   "metadata": {
    "ExecuteTime": {
     "end_time": "2018-04-25T02:49:21.554005Z",
     "start_time": "2018-04-25T02:49:21.525578Z"
    }
   },
   "outputs": [
    {
     "name": "stdout",
     "output_type": "stream",
     "text": [
      "['https://www.mlssoccer.com/players/Saad-Abdul-Salaam', 'https://www.mlssoccer.com/players/Kwame-Awuah', 'https://www.mlssoccer.com/players/Jo Inge-Berget', 'https://www.mlssoccer.com/players/Jeff-Caldwell', 'https://www.mlssoccer.com/players/Alexander-Callens', 'https://www.mlssoccer.com/players/Maxime-Chanot', 'https://www.mlssoccer.com/players/Yangel-Herrera', 'https://www.mlssoccer.com/players/Cedric-Hountondji', 'https://www.mlssoccer.com/players/Sebastien-Ibeagha', 'https://www.mlssoccer.com/players/Sean-Johnson', 'https://www.mlssoccer.com/players/Jonathan-Lewis', 'https://www.mlssoccer.com/players/Ronald-Matarrita', 'https://www.mlssoccer.com/players/Thomas-McNamara', 'https://www.mlssoccer.com/players/Jesus-Medina', 'https://www.mlssoccer.com/players/Maxi-Moralez', 'https://www.mlssoccer.com/players/Ebenezer-Ofori', 'https://www.mlssoccer.com/players/Andre-Rawls', 'https://www.mlssoccer.com/players/Alexander-Ring', 'https://www.mlssoccer.com/players/James-Sands', 'https://www.mlssoccer.com/players/Joe-Scally', 'https://www.mlssoccer.com/players/Brad-Stuver', 'https://www.mlssoccer.com/players/Ben-Sweat', 'https://www.mlssoccer.com/players/Ismael -Tajouri-Shradi', 'https://www.mlssoccer.com/players/Anton-Tinnerholm', 'https://www.mlssoccer.com/players/David-Villa', 'https://www.mlssoccer.com/players/Rodney-Wallace']\n"
     ]
    }
   ],
   "source": [
    "roster = soup3.table\n",
    "rows = [row for row in roster.find_all('a')]\n",
    "player_list = []\n",
    "for row in rows:\n",
    "    player_list.append(\"https://www.mlssoccer.com\" + row[\"href\"])\n",
    "print (player_list)"
   ]
  },
  {
   "cell_type": "code",
   "execution_count": 9,
   "metadata": {
    "ExecuteTime": {
     "end_time": "2018-04-25T02:49:21.566060Z",
     "start_time": "2018-04-25T02:49:21.554005Z"
    }
   },
   "outputs": [],
   "source": [
    "# Certain URLs do not work.  Noting them here.\n",
    "exclude_list = [\"https://www.mlssoccer.com/players/Shaft-Brewer\", \"https://www.mlssoccer.com/players/Maximiano\", \"https://www.mlssoccer.com/players/Bertrand-Owundi-Eko\",\n",
    "               \"https://www.mlssoccer.com/players/Zakaria-Diallo\", \"https://www.mlssoccer.com/players/Thomas-Meilleur-Giguere\",\n",
    "               \"https://www.mlssoccer.com/players/Antonio-Delamea-Mlinar\", \"https://www.mlssoccer.com/players/Mark-Segbers\",\n",
    "               \"https://www.mlssoccer.com/players/Ismael--Tajouri-Shradi\", \"https://www.mlssoccer.com/players/Earl-Edwards-Jr.\",\n",
    "               \"https://www.mlssoccer.com/players/Amro-Tarek\", \"https://www.mlssoccer.com/players/Eryk-Williamson\",\n",
    "               \"https://www.mlssoccer.com/players/Paul-Marie\", \"https://www.mlssoccer.com/players/Danny-Musovski\",\n",
    "               \"https://www.mlssoccer.com/players/Mohamed-Thiaw\", \"https://www.mlssoccer.com/players/Aiden-Daniels\",\n",
    "               \"https://www.mlssoccer.com/players/Simon-Colyn\", \"https://www.mlssoccer.com/players/Justin-Fiddes\",\n",
    "               \"https://www.mlssoccer.com/players/David-Norman-Jr.\"]"
   ]
  },
  {
   "cell_type": "code",
   "execution_count": 10,
   "metadata": {
    "ExecuteTime": {
     "end_time": "2018-04-25T03:48:49.558341Z",
     "start_time": "2018-04-25T02:49:21.566060Z"
    },
    "scrolled": true
   },
   "outputs": [],
   "source": [
    "stats = [[\"Player\", \"Position\", \"Year\", \"Club\", \"GP\", \"GS\", \"G\", \"MINS\", \"A\", \"SHTS\", \"SOG\", \"FC\", \"OFF\", \"Y\", \"R\"]]\n",
    "keepers = [[\"Player\", \"Position\", \"Year\", \"Club\", \"GP\", \"GS\", \"MINS\", \"SHO\", \"SV\", \"GA\", \"PKG\", \"PKA\", \"W\", \"L\", \"T\"]]\n",
    "\n",
    "for team in team_links:\n",
    "    sleep(1)\n",
    "    player_links = []\n",
    "    response_team = requests.get(team)\n",
    "    team_page = response_team.text\n",
    "    team_soup = BeautifulSoup(team_page, \"html5lib\")\n",
    "    roster = team_soup.table\n",
    "    players = [temp for temp in roster.find_all('a')]\n",
    "    player_links = []\n",
    "    for player in players:\n",
    "        player_links.append(\"https://www.mlssoccer.com\" + player[\"href\"])\n",
    "        \n",
    "    for link in player_links:\n",
    "        link = re.sub(r'\\s', '-', link)\n",
    "        if (link in exclude_list):\n",
    "            continue\n",
    "        sleep(2)\n",
    "        player_response = requests.get(link)\n",
    "        player_page = player_response.text\n",
    "        soup = BeautifulSoup(player_page, \"html5lib\")\n",
    "        name = (soup.find(\"title\").text.split(\"|\")[0])\n",
    "        pos = soup.find('span', {\"class\": \"position\"}).text\n",
    "        row = [name, pos]\n",
    "        for td in soup.find_all(\"td\"):\n",
    "            if (re.match(\"<td>.*?</td>\", str(td))):\n",
    "                continue\n",
    "            if (td[\"data-title\"] == \"Date\"):\n",
    "                break\n",
    "            row.append(td.text)\n",
    "            if (len(row) == 15):\n",
    "                if (pos == \"Goalkeeper\"):\n",
    "                    keepers.append(row)\n",
    "                else:\n",
    "                    stats.append(row)\n",
    "                row = [name, pos]"
   ]
  },
  {
   "cell_type": "code",
   "execution_count": 11,
   "metadata": {
    "ExecuteTime": {
     "end_time": "2018-04-25T03:48:49.589585Z",
     "start_time": "2018-04-25T03:48:49.558341Z"
    }
   },
   "outputs": [],
   "source": [
    "with open(\"output.csv\", \"w\", newline = \"\") as out_file:\n",
    "    writer = csv.writer(out_file)\n",
    "    writer.writerows(stats)\n",
    "\n",
    "with open(\"keepers.csv\", \"w\", newline = \"\") as keep_outfile:\n",
    "    writer_keep = csv.writer(keep_outfile)\n",
    "    writer_keep.writerows(keepers)"
   ]
  },
  {
   "cell_type": "code",
   "execution_count": 12,
   "metadata": {
    "ExecuteTime": {
     "end_time": "2018-04-25T03:48:49.605035Z",
     "start_time": "2018-04-25T03:48:49.589585Z"
    }
   },
   "outputs": [
    {
     "name": "stdout",
     "output_type": "stream",
     "text": [
      "<td data-title=\"Date\">3/04/2018</td>\n",
      "https://www.mlssoccer.com/players/Marco-Bustos\n",
      "https://www.mlssoccer.com/rosters/2018/vancouver-whitecaps\n"
     ]
    }
   ],
   "source": [
    "print (td)\n",
    "print (link)\n",
    "print (team)"
   ]
  },
  {
   "cell_type": "code",
   "execution_count": null,
   "metadata": {
    "ExecuteTime": {
     "end_time": "2018-04-24T18:17:28.894739Z",
     "start_time": "2018-04-24T18:17:28.847863Z"
    }
   },
   "outputs": [],
   "source": []
  },
  {
   "cell_type": "code",
   "execution_count": null,
   "metadata": {},
   "outputs": [],
   "source": []
  }
 ],
 "metadata": {
  "kernelspec": {
   "display_name": "Python 3",
   "language": "python",
   "name": "python3"
  },
  "language_info": {
   "codemirror_mode": {
    "name": "ipython",
    "version": 3
   },
   "file_extension": ".py",
   "mimetype": "text/x-python",
   "name": "python",
   "nbconvert_exporter": "python",
   "pygments_lexer": "ipython3",
   "version": "3.6.4"
  }
 },
 "nbformat": 4,
 "nbformat_minor": 2
}
