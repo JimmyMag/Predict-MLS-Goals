{
 "cells": [
  {
   "cell_type": "code",
   "execution_count": 1,
   "metadata": {
    "ExecuteTime": {
     "end_time": "2018-06-01T17:03:24.258438Z",
     "start_time": "2018-06-01T17:03:14.251884Z"
    },
    "scrolled": true
   },
   "outputs": [
    {
     "name": "stderr",
     "output_type": "stream",
     "text": [
      "C:\\Users\\Jimmy\\Anaconda3\\lib\\site-packages\\statsmodels\\compat\\pandas.py:56: FutureWarning: The pandas.core.datetools module is deprecated and will be removed in a future version. Please use the pandas.tseries module instead.\n",
      "  from pandas.core import datetools\n"
     ]
    },
    {
     "name": "stdout",
     "output_type": "stream",
     "text": [
      "Populating the interactive namespace from numpy and matplotlib\n"
     ]
    }
   ],
   "source": [
    "import csv\n",
    "import patsy\n",
    "import pandas as pd\n",
    "import numpy as np\n",
    "import seaborn as sns\n",
    "import statsmodels.api as sm\n",
    "from sklearn import pipeline, feature_selection, model_selection, linear_model, preprocessing\n",
    "%pylab inline\n",
    "plt.rcParams['figure.dpi'] = 300\n",
    "sns.set_style(\"darkgrid\")"
   ]
  },
  {
   "cell_type": "code",
   "execution_count": 2,
   "metadata": {
    "ExecuteTime": {
     "end_time": "2018-06-01T17:03:24.324268Z",
     "start_time": "2018-06-01T17:03:24.260459Z"
    }
   },
   "outputs": [],
   "source": [
    "players = pd.read_csv(\"output.csv\", encoding='latin-1')"
   ]
  },
  {
   "cell_type": "code",
   "execution_count": 3,
   "metadata": {
    "ExecuteTime": {
     "end_time": "2018-06-01T17:03:25.101857Z",
     "start_time": "2018-06-01T17:03:24.326255Z"
    },
    "scrolled": true
   },
   "outputs": [
    {
     "data": {
      "text/html": [
       "<div>\n",
       "<style scoped>\n",
       "    .dataframe tbody tr th:only-of-type {\n",
       "        vertical-align: middle;\n",
       "    }\n",
       "\n",
       "    .dataframe tbody tr th {\n",
       "        vertical-align: top;\n",
       "    }\n",
       "\n",
       "    .dataframe thead th {\n",
       "        text-align: right;\n",
       "    }\n",
       "</style>\n",
       "<table border=\"1\" class=\"dataframe\">\n",
       "  <thead>\n",
       "    <tr style=\"text-align: right;\">\n",
       "      <th></th>\n",
       "      <th>Player</th>\n",
       "      <th>Year</th>\n",
       "      <th>Position</th>\n",
       "      <th>Club</th>\n",
       "      <th>GP</th>\n",
       "      <th>GS</th>\n",
       "      <th>G</th>\n",
       "      <th>MINS</th>\n",
       "      <th>A</th>\n",
       "      <th>SHTS</th>\n",
       "      <th>SOG</th>\n",
       "      <th>FC</th>\n",
       "      <th>OFF</th>\n",
       "      <th>Y</th>\n",
       "      <th>R</th>\n",
       "    </tr>\n",
       "  </thead>\n",
       "  <tbody>\n",
       "    <tr>\n",
       "      <th>0</th>\n",
       "      <td>A.J. DeLaGarza</td>\n",
       "      <td>2009</td>\n",
       "      <td>Defender</td>\n",
       "      <td>Los Angeles Galaxy</td>\n",
       "      <td>22</td>\n",
       "      <td>21</td>\n",
       "      <td>1</td>\n",
       "      <td>1754</td>\n",
       "      <td>1</td>\n",
       "      <td>3</td>\n",
       "      <td>2</td>\n",
       "      <td>14</td>\n",
       "      <td>0</td>\n",
       "      <td>2</td>\n",
       "      <td>0</td>\n",
       "    </tr>\n",
       "    <tr>\n",
       "      <th>1</th>\n",
       "      <td>A.J. DeLaGarza</td>\n",
       "      <td>2010</td>\n",
       "      <td>Defender</td>\n",
       "      <td>Los Angeles Galaxy</td>\n",
       "      <td>17</td>\n",
       "      <td>14</td>\n",
       "      <td>1</td>\n",
       "      <td>1307</td>\n",
       "      <td>0</td>\n",
       "      <td>1</td>\n",
       "      <td>1</td>\n",
       "      <td>14</td>\n",
       "      <td>1</td>\n",
       "      <td>3</td>\n",
       "      <td>0</td>\n",
       "    </tr>\n",
       "    <tr>\n",
       "      <th>2</th>\n",
       "      <td>A.J. DeLaGarza</td>\n",
       "      <td>2011</td>\n",
       "      <td>Defender</td>\n",
       "      <td>LA Galaxy</td>\n",
       "      <td>30</td>\n",
       "      <td>30</td>\n",
       "      <td>0</td>\n",
       "      <td>2627</td>\n",
       "      <td>0</td>\n",
       "      <td>3</td>\n",
       "      <td>1</td>\n",
       "      <td>31</td>\n",
       "      <td>1</td>\n",
       "      <td>3</td>\n",
       "      <td>0</td>\n",
       "    </tr>\n",
       "    <tr>\n",
       "      <th>3</th>\n",
       "      <td>A.J. DeLaGarza</td>\n",
       "      <td>2012</td>\n",
       "      <td>Defender</td>\n",
       "      <td>LA Galaxy</td>\n",
       "      <td>30</td>\n",
       "      <td>30</td>\n",
       "      <td>0</td>\n",
       "      <td>2644</td>\n",
       "      <td>0</td>\n",
       "      <td>1</td>\n",
       "      <td>0</td>\n",
       "      <td>41</td>\n",
       "      <td>0</td>\n",
       "      <td>4</td>\n",
       "      <td>0</td>\n",
       "    </tr>\n",
       "    <tr>\n",
       "      <th>4</th>\n",
       "      <td>A.J. DeLaGarza</td>\n",
       "      <td>2013</td>\n",
       "      <td>Defender</td>\n",
       "      <td>LA Galaxy</td>\n",
       "      <td>28</td>\n",
       "      <td>28</td>\n",
       "      <td>0</td>\n",
       "      <td>2399</td>\n",
       "      <td>0</td>\n",
       "      <td>2</td>\n",
       "      <td>1</td>\n",
       "      <td>22</td>\n",
       "      <td>0</td>\n",
       "      <td>3</td>\n",
       "      <td>0</td>\n",
       "    </tr>\n",
       "  </tbody>\n",
       "</table>\n",
       "</div>"
      ],
      "text/plain": [
       "           Player  Year  Position                Club  GP  GS  G  MINS  A  \\\n",
       "0  A.J. DeLaGarza  2009  Defender  Los Angeles Galaxy  22  21  1  1754  1   \n",
       "1  A.J. DeLaGarza  2010  Defender  Los Angeles Galaxy  17  14  1  1307  0   \n",
       "2  A.J. DeLaGarza  2011  Defender           LA Galaxy  30  30  0  2627  0   \n",
       "3  A.J. DeLaGarza  2012  Defender           LA Galaxy  30  30  0  2644  0   \n",
       "4  A.J. DeLaGarza  2013  Defender           LA Galaxy  28  28  0  2399  0   \n",
       "\n",
       "   SHTS  SOG  FC  OFF  Y  R  \n",
       "0     3    2  14    0  2  0  \n",
       "1     1    1  14    1  3  0  \n",
       "2     3    1  31    1  3  0  \n",
       "3     1    0  41    0  4  0  \n",
       "4     2    1  22    0  3  0  "
      ]
     },
     "execution_count": 3,
     "metadata": {},
     "output_type": "execute_result"
    }
   ],
   "source": [
    "players = players[players.Year != \"Career Totals\"]\n",
    "players = players[players.GP > 3]\n",
    "players = players.groupby([\"Player\", \"Year\"]).first().reset_index()\n",
    "players[\"Player\"] = players.Player.str.rstrip()\n",
    "players.head()"
   ]
  },
  {
   "cell_type": "code",
   "execution_count": 4,
   "metadata": {
    "ExecuteTime": {
     "end_time": "2018-06-01T17:03:25.256917Z",
     "start_time": "2018-06-01T17:03:25.103857Z"
    }
   },
   "outputs": [],
   "source": [
    "players_adj = players.copy(deep = True)\n",
    "players_adj[['G', 'A', 'SHTS', 'SOG', \"FC\", 'OFF', 'Y', 'R']] = players_adj[['G', 'A', 'SHTS', 'SOG', \"FC\", 'OFF', 'Y', 'R']].div(players.GP, axis=0)\n",
    "pd.options.display.float_format = '{:,.4f}'.format"
   ]
  },
  {
   "cell_type": "code",
   "execution_count": 5,
   "metadata": {
    "ExecuteTime": {
     "end_time": "2018-06-01T17:03:25.287864Z",
     "start_time": "2018-06-01T17:03:25.258943Z"
    }
   },
   "outputs": [],
   "source": [
    "test = players_adj[players_adj.Year == \"2018\"].select_dtypes([\"float64\", \"int64\"])\n",
    "train = players_adj[players_adj.Year != \"2018\"].select_dtypes([\"float64\", \"int64\"])"
   ]
  },
  {
   "cell_type": "code",
   "execution_count": 6,
   "metadata": {
    "ExecuteTime": {
     "end_time": "2018-06-01T17:03:25.314793Z",
     "start_time": "2018-06-01T17:03:25.289860Z"
    }
   },
   "outputs": [],
   "source": [
    "params = train.drop(['GP', \"GS\", \"G\", \"MINS\"], 1)\n",
    "goals = train[\"G\"]\n",
    "test_params = test.drop(['GP', \"GS\", \"G\", \"MINS\"], 1)\n",
    "test_goals = test[\"G\"]"
   ]
  },
  {
   "cell_type": "code",
   "execution_count": 41,
   "metadata": {
    "ExecuteTime": {
     "end_time": "2018-06-01T17:13:36.142968Z",
     "start_time": "2018-06-01T17:13:36.113613Z"
    }
   },
   "outputs": [
    {
     "data": {
      "text/plain": [
       "0.7866998552805723"
      ]
     },
     "execution_count": 41,
     "metadata": {},
     "output_type": "execute_result"
    }
   ],
   "source": [
    "select_pipe = pipeline.Pipeline(\n",
    "    # some features have missing values so this fills in the mean for them\n",
    "    # this imputer is lazy and often helpful but not always the best option\n",
    "    [(\"imp\", preprocessing.Imputer()), \n",
    "     # scale our features before linear models. it's good data hygiene \n",
    "     (\"std\", preprocessing.StandardScaler()),\n",
    "     # we'll use select k best to adjust model complexity\n",
    "     (\"select\",\n",
    "      feature_selection.SelectKBest(k = 'all',\n",
    "          score_func=feature_selection.f_regression)), \n",
    "     # our old friend <3\n",
    "     (\"lin\", linear_model.LinearRegression())\n",
    "    ])\n",
    "select_pipe.fit(params, goals)\n",
    "select_pipe.score(params, goals)"
   ]
  },
  {
   "cell_type": "code",
   "execution_count": 37,
   "metadata": {
    "ExecuteTime": {
     "end_time": "2018-06-01T17:08:05.958957Z",
     "start_time": "2018-06-01T17:08:05.954966Z"
    }
   },
   "outputs": [
    {
     "data": {
      "text/plain": [
       "0.6788486515433392"
      ]
     },
     "execution_count": 37,
     "metadata": {},
     "output_type": "execute_result"
    }
   ],
   "source": [
    "select_pipe.score(test_params, test_goals)"
   ]
  },
  {
   "cell_type": "code",
   "execution_count": 38,
   "metadata": {
    "ExecuteTime": {
     "end_time": "2018-06-01T17:08:06.126504Z",
     "start_time": "2018-06-01T17:08:06.119524Z"
    },
    "scrolled": true
   },
   "outputs": [
    {
     "data": {
      "text/plain": [
       "[('SHTS', -0.01769415761787043),\n",
       " ('SOG', 0.13144579422449784),\n",
       " ('OFF', 0.01203107018433064)]"
      ]
     },
     "execution_count": 38,
     "metadata": {},
     "output_type": "execute_result"
    }
   ],
   "source": [
    "feat_support = select_pipe.named_steps[\"select\"].get_support()\n",
    "feat = params.columns[feat_support]\n",
    "coef = select_pipe.named_steps[\"lin\"].coef_\n",
    "list(zip(feat, coef))"
   ]
  },
  {
   "cell_type": "code",
   "execution_count": 39,
   "metadata": {
    "ExecuteTime": {
     "end_time": "2018-06-01T17:08:06.327477Z",
     "start_time": "2018-06-01T17:08:06.269162Z"
    }
   },
   "outputs": [
    {
     "name": "stdout",
     "output_type": "stream",
     "text": [
      "train: 0.786, test: 0.757\n"
     ]
    }
   ],
   "source": [
    "cv_result = model_selection.cross_validate(select_pipe, X=params, y=goals, cv=10, return_train_score=True)\n",
    "print(f\"train: {np.mean(cv_result['train_score']):.3}, test: {np.mean(cv_result['test_score']):.3}\")"
   ]
  },
  {
   "cell_type": "code",
   "execution_count": 40,
   "metadata": {
    "ExecuteTime": {
     "end_time": "2018-06-01T17:08:07.487057Z",
     "start_time": "2018-06-01T17:08:06.794997Z"
    },
    "scrolled": true
   },
   "outputs": [
    {
     "data": {
      "image/png": "[encoded data removed]",
      "text/plain": [
       "<matplotlib.figure.Figure at 0x12f818c3588>"
      ]
     },
     "metadata": {},
     "output_type": "display_data"
    }
   ],
   "source": [
    "figsize(15, 8)\n",
    "\n",
    "train_scores = []\n",
    "test_scores = []\n",
    "# define feature range\n",
    "num_feats = len(params.columns)\n",
    "feat_range = np.arange(num_feats)+1\n",
    "# for each k in feat_range\n",
    "for num_f in feat_range:\n",
    "    # set pipeline params\n",
    "    select_pipe.set_params(select__k=num_f)\n",
    "    # get cross val scores\n",
    "    cv_result = model_selection.cross_validate(\n",
    "        select_pipe, X=params, y=goals, cv=10, return_train_score=True)\n",
    "    train_scores.append(np.maximum(np.mean(cv_result['train_score']), 0))\n",
    "    test_scores.append(np.maximum(np.mean(cv_result['test_score']), 0))\n",
    "\n",
    "# plot test vs train\n",
    "plot(feat_range, train_scores, label=\"train\")\n",
    "plot(feat_range, test_scores, label=\"test\")\n",
    "\n",
    "# find index of best score\n",
    "best_i = np.argmax(test_scores)\n",
    "# annotate score\n",
    "ann_xy = (feat_range[best_i], test_scores[best_i])\n",
    "ann_text = f\"$r^2$={test_scores[best_i]:.2}, $k$={feat_range[best_i]}\"\n",
    "annotate(ann_text, xy=ann_xy, xytext=(.6,.4), textcoords='axes fraction',\n",
    "            arrowprops=dict(arrowstyle=\"->\"),\n",
    "            )\n",
    "\n",
    "xlabel(\"k in select k best\")\n",
    "ylabel(\"$r^2$, clipped to [0,1]\")\n",
    "title(\"learning curve\")\n",
    "legend();"
   ]
  },
  {
   "cell_type": "code",
   "execution_count": null,
   "metadata": {},
   "outputs": [],
   "source": []
  },
  {
   "cell_type": "code",
   "execution_count": null,
   "metadata": {},
   "outputs": [],
   "source": []
  }
 ],
 "metadata": {
  "kernelspec": {
   "display_name": "Python 3",
   "language": "python",
   "name": "python3"
  },
  "language_info": {
   "codemirror_mode": {
    "name": "ipython",
    "version": 3
   },
   "file_extension": ".py",
   "mimetype": "text/x-python",
   "name": "python",
   "nbconvert_exporter": "python",
   "pygments_lexer": "ipython3",
   "version": "3.6.4"
  }
 },
 "nbformat": 4,
 "nbformat_minor": 2
}
