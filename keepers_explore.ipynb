{
 "cells": [
  {
   "cell_type": "code",
   "execution_count": 1,
   "metadata": {
    "ExecuteTime": {
     "end_time": "2018-04-30T14:44:40.233493Z",
     "start_time": "2018-04-30T14:44:39.186538Z"
    }
   },
   "outputs": [
    {
     "name": "stderr",
     "output_type": "stream",
     "text": [
      "C:\\Users\\Jimmy\\Anaconda3\\lib\\site-packages\\statsmodels\\compat\\pandas.py:56: FutureWarning: The pandas.core.datetools module is deprecated and will be removed in a future version. Please use the pandas.tseries module instead.\n",
      "  from pandas.core import datetools\n"
     ]
    },
    {
     "name": "stdout",
     "output_type": "stream",
     "text": [
      "Populating the interactive namespace from numpy and matplotlib\n"
     ]
    }
   ],
   "source": [
    "import csv\n",
    "import patsy\n",
    "import pandas as pd\n",
    "import numpy as np\n",
    "import seaborn as sns\n",
    "import statsmodels.api as sm\n",
    "from sklearn import pipeline, feature_selection, model_selection, linear_model, preprocessing\n",
    "%pylab inline\n",
    "plt.rcParams['figure.dpi'] = 300\n",
    "sns.set_style(\"darkgrid\")"
   ]
  },
  {
   "cell_type": "code",
   "execution_count": 2,
   "metadata": {
    "ExecuteTime": {
     "end_time": "2018-04-30T14:44:40.264746Z",
     "start_time": "2018-04-30T14:44:40.233493Z"
    }
   },
   "outputs": [],
   "source": [
    "players = pd.read_csv(\"keepers.csv\", encoding='latin-1')"
   ]
  },
  {
   "cell_type": "code",
   "execution_count": 3,
   "metadata": {
    "ExecuteTime": {
     "end_time": "2018-04-30T14:44:40.405386Z",
     "start_time": "2018-04-30T14:44:40.264746Z"
    }
   },
   "outputs": [
    {
     "data": {
      "text/html": [
       "<div>\n",
       "<style scoped>\n",
       "    .dataframe tbody tr th:only-of-type {\n",
       "        vertical-align: middle;\n",
       "    }\n",
       "\n",
       "    .dataframe tbody tr th {\n",
       "        vertical-align: top;\n",
       "    }\n",
       "\n",
       "    .dataframe thead th {\n",
       "        text-align: right;\n",
       "    }\n",
       "</style>\n",
       "<table border=\"1\" class=\"dataframe\">\n",
       "  <thead>\n",
       "    <tr style=\"text-align: right;\">\n",
       "      <th></th>\n",
       "      <th>Player</th>\n",
       "      <th>Year</th>\n",
       "      <th>Position</th>\n",
       "      <th>Club</th>\n",
       "      <th>GP</th>\n",
       "      <th>GS</th>\n",
       "      <th>MINS</th>\n",
       "      <th>SHO</th>\n",
       "      <th>SV</th>\n",
       "      <th>GA</th>\n",
       "      <th>PKG</th>\n",
       "      <th>PKA</th>\n",
       "      <th>W</th>\n",
       "      <th>L</th>\n",
       "      <th>T</th>\n",
       "    </tr>\n",
       "  </thead>\n",
       "  <tbody>\n",
       "    <tr>\n",
       "      <th>0</th>\n",
       "      <td>Alec Kann</td>\n",
       "      <td>2016</td>\n",
       "      <td>Goalkeeper</td>\n",
       "      <td>Sporting Kansas City</td>\n",
       "      <td>7</td>\n",
       "      <td>7</td>\n",
       "      <td>630</td>\n",
       "      <td>2</td>\n",
       "      <td>17</td>\n",
       "      <td>11</td>\n",
       "      <td>0</td>\n",
       "      <td>0</td>\n",
       "      <td>2</td>\n",
       "      <td>2</td>\n",
       "      <td>3</td>\n",
       "    </tr>\n",
       "    <tr>\n",
       "      <th>1</th>\n",
       "      <td>Alec Kann</td>\n",
       "      <td>2017</td>\n",
       "      <td>Goalkeeper</td>\n",
       "      <td>Atlanta United</td>\n",
       "      <td>18</td>\n",
       "      <td>18</td>\n",
       "      <td>1620</td>\n",
       "      <td>4</td>\n",
       "      <td>56</td>\n",
       "      <td>25</td>\n",
       "      <td>4</td>\n",
       "      <td>4</td>\n",
       "      <td>8</td>\n",
       "      <td>7</td>\n",
       "      <td>3</td>\n",
       "    </tr>\n",
       "    <tr>\n",
       "      <th>2</th>\n",
       "      <td>Alex Bono</td>\n",
       "      <td>2016</td>\n",
       "      <td>Goalkeeper</td>\n",
       "      <td>Toronto FC</td>\n",
       "      <td>16</td>\n",
       "      <td>15</td>\n",
       "      <td>1370</td>\n",
       "      <td>4</td>\n",
       "      <td>42</td>\n",
       "      <td>16</td>\n",
       "      <td>1</td>\n",
       "      <td>1</td>\n",
       "      <td>8</td>\n",
       "      <td>3</td>\n",
       "      <td>5</td>\n",
       "    </tr>\n",
       "    <tr>\n",
       "      <th>3</th>\n",
       "      <td>Alex Bono</td>\n",
       "      <td>2017</td>\n",
       "      <td>Goalkeeper</td>\n",
       "      <td>Toronto FC</td>\n",
       "      <td>29</td>\n",
       "      <td>28</td>\n",
       "      <td>2570</td>\n",
       "      <td>10</td>\n",
       "      <td>72</td>\n",
       "      <td>32</td>\n",
       "      <td>3</td>\n",
       "      <td>5</td>\n",
       "      <td>19</td>\n",
       "      <td>4</td>\n",
       "      <td>6</td>\n",
       "    </tr>\n",
       "    <tr>\n",
       "      <th>4</th>\n",
       "      <td>Andre Blake</td>\n",
       "      <td>2015</td>\n",
       "      <td>Goalkeeper</td>\n",
       "      <td>Philadelphia Union</td>\n",
       "      <td>6</td>\n",
       "      <td>6</td>\n",
       "      <td>540</td>\n",
       "      <td>2</td>\n",
       "      <td>26</td>\n",
       "      <td>9</td>\n",
       "      <td>1</td>\n",
       "      <td>1</td>\n",
       "      <td>2</td>\n",
       "      <td>3</td>\n",
       "      <td>1</td>\n",
       "    </tr>\n",
       "  </tbody>\n",
       "</table>\n",
       "</div>"
      ],
      "text/plain": [
       "        Player  Year    Position                  Club  GP  GS  MINS  SHO  SV  \\\n",
       "0    Alec Kann  2016  Goalkeeper  Sporting Kansas City   7   7   630    2  17   \n",
       "1    Alec Kann  2017  Goalkeeper        Atlanta United  18  18  1620    4  56   \n",
       "2    Alex Bono  2016  Goalkeeper            Toronto FC  16  15  1370    4  42   \n",
       "3    Alex Bono  2017  Goalkeeper            Toronto FC  29  28  2570   10  72   \n",
       "4  Andre Blake  2015  Goalkeeper    Philadelphia Union   6   6   540    2  26   \n",
       "\n",
       "   GA  PKG  PKA   W  L  T  \n",
       "0  11    0    0   2  2  3  \n",
       "1  25    4    4   8  7  3  \n",
       "2  16    1    1   8  3  5  \n",
       "3  32    3    5  19  4  6  \n",
       "4   9    1    1   2  3  1  "
      ]
     },
     "execution_count": 3,
     "metadata": {},
     "output_type": "execute_result"
    }
   ],
   "source": [
    "players = players[players.Year != \"Career Totals\"]\n",
    "players = players[players.GP > 3]\n",
    "players = players.groupby([\"Player\", \"Year\"]).first().reset_index()\n",
    "players[\"Player\"] = players.Player.str.rstrip()\n",
    "players.head()"
   ]
  },
  {
   "cell_type": "code",
   "execution_count": 4,
   "metadata": {
    "ExecuteTime": {
     "end_time": "2018-04-30T14:44:40.436640Z",
     "start_time": "2018-04-30T14:44:40.405386Z"
    }
   },
   "outputs": [],
   "source": [
    "players_adj = players.copy(deep = True)\n",
    "players_adj[['SHO', 'SV', 'GA', 'PKG', \"PKA\", 'W', 'L', 'T']] = players_adj[['SHO', 'SV', 'GA', 'PKG', \"PKA\", 'W', 'L', 'T']].div(players.GP, axis=0)\n",
    "pd.options.display.float_format = '{:,.4f}'.format"
   ]
  },
  {
   "cell_type": "code",
   "execution_count": 5,
   "metadata": {
    "ExecuteTime": {
     "end_time": "2018-04-30T14:44:40.467923Z",
     "start_time": "2018-04-30T14:44:40.436640Z"
    }
   },
   "outputs": [],
   "source": [
    "test = players_adj[players_adj.Year == \"2018\"].select_dtypes([\"float64\", \"int64\"])\n",
    "train = players_adj[players_adj.Year != \"2018\"].select_dtypes([\"float64\", \"int64\"])"
   ]
  },
  {
   "cell_type": "code",
   "execution_count": 6,
   "metadata": {
    "ExecuteTime": {
     "end_time": "2018-04-30T14:44:40.499149Z",
     "start_time": "2018-04-30T14:44:40.467923Z"
    }
   },
   "outputs": [],
   "source": [
    "params = train.drop(['GP', \"GS\", \"MINS\", \"GA\"], 1)\n",
    "goals = train[\"GA\"]\n",
    "test_params = test.drop(['GP', \"GS\", \"MINS\", \"GA\", \"W\", \"L\", \"T\"], 1)\n",
    "test_goals = test[\"GA\"]"
   ]
  },
  {
   "cell_type": "code",
   "execution_count": 7,
   "metadata": {
    "ExecuteTime": {
     "end_time": "2018-04-30T14:44:40.546034Z",
     "start_time": "2018-04-30T14:44:40.499149Z"
    }
   },
   "outputs": [
    {
     "data": {
      "text/plain": [
       "0.5604371497109355"
      ]
     },
     "execution_count": 7,
     "metadata": {},
     "output_type": "execute_result"
    }
   ],
   "source": [
    "select_pipe = pipeline.Pipeline(\n",
    "    # some features have missing values so this fills in the mean for them\n",
    "    # this imputer is lazy and often helpful but not always the best option\n",
    "    [(\"imp\", preprocessing.Imputer()), \n",
    "     # scale our features before linear models. it's good data hygiene \n",
    "     (\"std\", preprocessing.StandardScaler()),\n",
    "     # we'll use select k best to adjust model complexity\n",
    "     (\"select\",\n",
    "      feature_selection.SelectKBest(k = 2,\n",
    "          score_func=feature_selection.f_regression)), \n",
    "     # our old friend <3\n",
    "     (\"lin\", linear_model.LinearRegression())\n",
    "    ])\n",
    "select_pipe.fit(params, goals)\n",
    "select_pipe.score(params, goals)"
   ]
  },
  {
   "cell_type": "code",
   "execution_count": 8,
   "metadata": {
    "ExecuteTime": {
     "end_time": "2018-04-30T14:44:40.577130Z",
     "start_time": "2018-04-30T14:44:40.548530Z"
    }
   },
   "outputs": [
    {
     "data": {
      "text/plain": [
       "[('SHO', -0.16052227170392225), ('L', 0.1472768354408096)]"
      ]
     },
     "execution_count": 8,
     "metadata": {},
     "output_type": "execute_result"
    }
   ],
   "source": [
    "feat_support = select_pipe.named_steps[\"select\"].get_support()\n",
    "feat = params.columns[feat_support]\n",
    "coef = select_pipe.named_steps[\"lin\"].coef_\n",
    "list(zip(feat, coef))"
   ]
  },
  {
   "cell_type": "code",
   "execution_count": 9,
   "metadata": {
    "ExecuteTime": {
     "end_time": "2018-04-30T14:44:40.639266Z",
     "start_time": "2018-04-30T14:44:40.579609Z"
    }
   },
   "outputs": [
    {
     "name": "stdout",
     "output_type": "stream",
     "text": [
      "train: 0.561, test: 0.462\n"
     ]
    }
   ],
   "source": [
    "cv_result = model_selection.cross_validate(select_pipe, X=params, y=goals, cv=10, return_train_score=True)\n",
    "print(f\"train: {np.mean(cv_result['train_score']):.3}, test: {np.mean(cv_result['test_score']):.3}\")"
   ]
  },
  {
   "cell_type": "code",
   "execution_count": 10,
   "metadata": {
    "ExecuteTime": {
     "end_time": "2018-04-30T14:44:41.423926Z",
     "start_time": "2018-04-30T14:44:40.641272Z"
    }
   },
   "outputs": [
    {
     "data": {
      "image/png": "[encoded data removed]",
      "text/plain": [
       "<matplotlib.figure.Figure at 0x2a425eb47b8>"
      ]
     },
     "metadata": {},
     "output_type": "display_data"
    }
   ],
   "source": [
    "figsize(15, 8)\n",
    "\n",
    "train_scores = []\n",
    "test_scores = []\n",
    "# define feature range\n",
    "num_feats = len(params.columns)\n",
    "feat_range = np.arange(num_feats)+1\n",
    "# for each k in feat_range\n",
    "for num_f in feat_range:\n",
    "    # set pipeline params\n",
    "    select_pipe.set_params(select__k=num_f)\n",
    "    # get cross val scores\n",
    "    cv_result = model_selection.cross_validate(\n",
    "        select_pipe, X=params, y=goals, cv=10, return_train_score=True)\n",
    "    train_scores.append(np.maximum(np.mean(cv_result['train_score']), 0))\n",
    "    test_scores.append(np.maximum(np.mean(cv_result['test_score']), 0))\n",
    "\n",
    "# plot test vs train\n",
    "plot(feat_range, train_scores, label=\"train\")\n",
    "plot(feat_range, test_scores, label=\"test\")\n",
    "\n",
    "# find index of best score\n",
    "best_i = np.argmax(test_scores)\n",
    "# annotate score\n",
    "ann_xy = (feat_range[best_i], test_scores[best_i])\n",
    "ann_text = f\"$r^2$={test_scores[best_i]:.2}, $k$={feat_range[best_i]}\"\n",
    "annotate(ann_text, xy=ann_xy, xytext=(.6,.4), textcoords='axes fraction',\n",
    "            arrowprops=dict(arrowstyle=\"->\"),\n",
    "            )\n",
    "\n",
    "xlabel(\"k in select k best\")\n",
    "ylabel(\"$r^2$, clipped to [0,1]\")\n",
    "title(\"learning curve\")\n",
    "legend();"
   ]
  },
  {
   "cell_type": "code",
   "execution_count": null,
   "metadata": {
    "ExecuteTime": {
     "end_time": "2018-04-27T16:18:05.571471Z",
     "start_time": "2018-04-27T16:18:05.441891Z"
    }
   },
   "outputs": [],
   "source": []
  },
  {
   "cell_type": "code",
   "execution_count": null,
   "metadata": {},
   "outputs": [],
   "source": []
  }
 ],
 "metadata": {
  "kernelspec": {
   "display_name": "Python 3",
   "language": "python",
   "name": "python3"
  },
  "language_info": {
   "codemirror_mode": {
    "name": "ipython",
    "version": 3
   },
   "file_extension": ".py",
   "mimetype": "text/x-python",
   "name": "python",
   "nbconvert_exporter": "python",
   "pygments_lexer": "ipython3",
   "version": "3.6.4"
  }
 },
 "nbformat": 4,
 "nbformat_minor": 2
}
